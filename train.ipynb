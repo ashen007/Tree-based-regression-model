{
 "cells": [
  {
   "cell_type": "code",
   "execution_count": 1,
   "metadata": {
    "collapsed": true
   },
   "outputs": [],
   "source": [
    "import numpy as np\n",
    "import pandas as pd"
   ]
  },
  {
   "cell_type": "code",
   "execution_count": 33,
   "outputs": [
    {
     "data": {
      "text/plain": "array([[1.00000e+00, 6.00000e+01,         nan, ...,         nan,\n                nan, 2.08500e+05],\n       [2.00000e+00, 2.00000e+01,         nan, ...,         nan,\n                nan, 1.81500e+05],\n       [3.00000e+00, 6.00000e+01,         nan, ...,         nan,\n                nan, 2.23500e+05],\n       ...,\n       [1.45800e+03, 7.00000e+01,         nan, ...,         nan,\n                nan, 2.66500e+05],\n       [1.45900e+03, 2.00000e+01,         nan, ...,         nan,\n                nan, 1.42125e+05],\n       [1.46000e+03, 2.00000e+01,         nan, ...,         nan,\n                nan, 1.47500e+05]])"
     },
     "execution_count": 33,
     "metadata": {},
     "output_type": "execute_result"
    }
   ],
   "source": [
    "dataset_df = pd.read_csv('../../case data/hose-price-prediction/train.csv',index_col='Id',na_filter=True)\n",
    "dataset = np.genfromtxt('../../case data/hose-price-prediction/train.csv',delimiter=',',skip_header=True)\n",
    "dataset"
   ],
   "metadata": {
    "collapsed": false,
    "pycharm": {
     "name": "#%%\n"
    }
   }
  },
  {
   "cell_type": "code",
   "execution_count": 41,
   "outputs": [],
   "source": [
    "def bin_split(data, feature, value):\n",
    "    mat0 = data[np.nonzero(data[:, feature] > value)[0],:][0]\n",
    "    mat1 = data[np.nonzero(data[:, feature] <= value)[0],:][0]\n",
    "    return mat0, mat1"
   ],
   "metadata": {
    "collapsed": false,
    "pycharm": {
     "name": "#%%\n"
    }
   }
  },
  {
   "cell_type": "code",
   "execution_count": 67,
   "outputs": [],
   "source": [
    "def bin_split_df(data, feature, value):\n",
    "    mat0 = data.iloc[np.nonzero(data[feature].values > value)[0],:].iloc[0]\n",
    "    mat1 = data.iloc[np.nonzero(data[feature].values <= value)[0], :].iloc[0]\n",
    "    return mat0, mat1"
   ],
   "metadata": {
    "collapsed": false,
    "pycharm": {
     "name": "#%%\n"
    }
   }
  },
  {
   "cell_type": "code",
   "execution_count": 63,
   "outputs": [
    {
     "data": {
      "text/plain": "((81,), (81,))"
     },
     "execution_count": 63,
     "metadata": {},
     "output_type": "execute_result"
    }
   ],
   "source": [
    "mat0,mat1 = bin_split(dataset,1,20)\n",
    "mat0.shape,mat1.shape"
   ],
   "metadata": {
    "collapsed": false,
    "pycharm": {
     "name": "#%%\n"
    }
   }
  },
  {
   "cell_type": "code",
   "execution_count": 68,
   "outputs": [],
   "source": [
    "m0,m1 = bin_split_df(dataset_df,'MSSubClass',20)"
   ],
   "metadata": {
    "collapsed": false,
    "pycharm": {
     "name": "#%%\n"
    }
   }
  },
  {
   "cell_type": "code",
   "execution_count": 71,
   "outputs": [
    {
     "data": {
      "text/plain": "array([60, 'RL', 65.0, 8450, 'Pave', nan, 'Reg', 'Lvl', 'AllPub',\n       'Inside', 'Gtl', 'CollgCr', 'Norm', 'Norm', '1Fam', '2Story', 7, 5,\n       2003, 2003, 'Gable', 'CompShg', 'VinylSd', 'VinylSd', 'BrkFace',\n       196.0, 'Gd', 'TA', 'PConc', 'Gd', 'TA', 'No', 'GLQ', 706, 'Unf', 0,\n       150, 856, 'GasA', 'Ex', 'Y', 'SBrkr', 856, 854, 0, 1710, 1, 0, 2,\n       1, 3, 1, 'Gd', 8, 'Typ', 0, nan, 'Attchd', 2003.0, 'RFn', 2, 548,\n       'TA', 'TA', 'Y', 0, 61, 0, 0, 0, 0, nan, nan, nan, 0, 2, 2008,\n       'WD', 'Normal', 208500], dtype=object)"
     },
     "execution_count": 71,
     "metadata": {},
     "output_type": "execute_result"
    }
   ],
   "source": [
    "m0.values"
   ],
   "metadata": {
    "collapsed": false,
    "pycharm": {
     "name": "#%%\n"
    }
   }
  },
  {
   "cell_type": "code",
   "execution_count": 72,
   "outputs": [
    {
     "data": {
      "text/plain": "array([20, 'RL', 80.0, 9600, 'Pave', nan, 'Reg', 'Lvl', 'AllPub', 'FR2',\n       'Gtl', 'Veenker', 'Feedr', 'Norm', '1Fam', '1Story', 6, 8, 1976,\n       1976, 'Gable', 'CompShg', 'MetalSd', 'MetalSd', 'None', 0.0, 'TA',\n       'TA', 'CBlock', 'Gd', 'TA', 'Gd', 'ALQ', 978, 'Unf', 0, 284, 1262,\n       'GasA', 'Ex', 'Y', 'SBrkr', 1262, 0, 0, 1262, 0, 1, 2, 0, 3, 1,\n       'TA', 6, 'Typ', 1, 'TA', 'Attchd', 1976.0, 'RFn', 2, 460, 'TA',\n       'TA', 'Y', 298, 0, 0, 0, 0, 0, nan, nan, nan, 0, 5, 2007, 'WD',\n       'Normal', 181500], dtype=object)"
     },
     "execution_count": 72,
     "metadata": {},
     "output_type": "execute_result"
    }
   ],
   "source": [
    "m1.values\n"
   ],
   "metadata": {
    "collapsed": false,
    "pycharm": {
     "name": "#%%\n"
    }
   }
  }
 ],
 "metadata": {
  "kernelspec": {
   "display_name": "Python 3",
   "language": "python",
   "name": "python3"
  },
  "language_info": {
   "codemirror_mode": {
    "name": "ipython",
    "version": 2
   },
   "file_extension": ".py",
   "mimetype": "text/x-python",
   "name": "python",
   "nbconvert_exporter": "python",
   "pygments_lexer": "ipython2",
   "version": "2.7.6"
  }
 },
 "nbformat": 4,
 "nbformat_minor": 0
}